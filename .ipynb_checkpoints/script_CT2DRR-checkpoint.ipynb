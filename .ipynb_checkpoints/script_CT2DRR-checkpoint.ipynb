{
 "cells": [
  {
   "cell_type": "code",
   "execution_count": 1,
   "id": "buried-machine",
   "metadata": {},
   "outputs": [
    {
     "name": "stdout",
     "output_type": "stream",
     "text": [
      "D:\\data\\CT-Covid-19-August2020\n",
      "D:\\data\\CT-Covid-19-August2020\\volume-covid19-A-0005.nii\\volume-covid19-A-0005.nii\n",
      "0005\n",
      "Origin: [-943.0, -189.083, -178.34]\n",
      "Voxel Size: [1.0, 0.74, 0.74]\n",
      "1.0948478296196764,0.0006113453362004877\n",
      "1.0948478296196764,0.0006113453362004877\n",
      "1.0948478296196764,0.5611145167668623\n",
      "D:\\data\\CT-Covid-19-August2020\\DRR_output\\0005_source.npy\n",
      "Saved.\n",
      "0.9028649413172842,0.0\n",
      "0.9028649413172842,0.0\n",
      "0.9028649413172842,0.5611145167668623\n",
      "D:\\data\\CT-Covid-19-August2020\\DRR_output\\0005_boneless.npy\n",
      "Saved.\n",
      "0.1103922460904303,0.0\n",
      "0.1103922460904303,0.0\n",
      "0.5611145167668623,0.5611145167668623\n",
      "D:\\data\\CT-Covid-19-August2020\\DRR_output\\0005_lung.npy\n",
      "Saved.\n",
      "0005: Saving bone and lung segs for validation.\n",
      "D:\\data\\CT-Covid-19-August2020\\volume-covid19-A-0404.nii\\volume-covid19-A-0404.nii\n",
      "0404\n",
      "Origin: [-352.0, -220.272, -213.436]\n",
      "Voxel Size: [5.0, 0.862, 0.862]\n",
      "26.35248626457655,0.0005322475321099165\n",
      "2.6524566646495535,0.0005322475321099165\n",
      "2.6524566646495535,0.5611145167668623\n",
      "D:\\data\\CT-Covid-19-August2020\\DRR_output\\0404_source.npy\n",
      "Saved.\n",
      "0.81653092283281,0.0\n",
      "0.81653092283281,0.0\n",
      "0.81653092283281,0.5611145167668623\n",
      "D:\\data\\CT-Covid-19-August2020\\DRR_output\\0404_boneless.npy\n",
      "Saved.\n",
      "0.14403517751837594,0.0\n",
      "0.14403517751837594,0.0\n",
      "0.5611145167668623,0.5611145167668623\n",
      "D:\\data\\CT-Covid-19-August2020\\DRR_output\\0404_lung.npy\n",
      "Saved.\n",
      "0404: Saving bone and lung segs for validation.\n",
      "D:\\data\\CT-Covid-19-August2020\\volume-covid19-A-0612.nii\\volume-covid19-A-0612.nii\n",
      "0612\n",
      "Origin: [-306.75, -180.0, -177.4]\n",
      "Voxel Size: [5.0, 0.703125, 0.703125]\n",
      "1.0706868038600983,0.001065631266717268\n",
      "1.0706868038600983,0.001065631266717268\n",
      "1.0706868038600983,0.5611145167668623\n",
      "D:\\data\\CT-Covid-19-August2020\\DRR_output\\0612_source.npy\n",
      "Saved.\n",
      "0.9300694011707109,0.0\n",
      "0.9300694011707109,0.0\n",
      "0.9300694011707109,0.5611145167668623\n",
      "D:\\data\\CT-Covid-19-August2020\\DRR_output\\0612_boneless.npy\n",
      "Saved.\n",
      "0.13854755679498942,0.0\n",
      "0.13854755679498942,0.0\n",
      "0.5611145167668623,0.5611145167668623\n",
      "D:\\data\\CT-Covid-19-August2020\\DRR_output\\0612_lung.npy\n",
      "Saved.\n",
      "0612: Saving bone and lung segs for validation.\n"
     ]
    },
    {
     "data": {
      "image/png": "[encoded data removed]",
      "text/plain": [
       "<Figure size 432x288 with 1 Axes>"
      ]
     },
     "metadata": {
      "needs_background": "light"
     },
     "output_type": "display_data"
    }
   ],
   "source": [
    "%matplotlib inline\n",
    "import SimpleITK as sitk\n",
    "import numpy as np\n",
    "import os, sys, time, datetime\n",
    "import pathlib\n",
    "import re\n",
    "import matplotlib.pyplot as plt\n",
    "\n",
    "\n",
    "import skimage.filters, skimage.exposure, skimage.measure, skimage.morphology\n",
    "import scipy\n",
    "\n",
    "# Build DRR from the CT image NP array\n",
    "import DRR\n",
    "import ImageProcessing\n",
    "\n",
    "# ALL CT IMAGES IN DIRECTORY\n",
    "directoryPath = pathlib.Path(\"D:/data/CT-Covid-19-August2020/\")\n",
    "print(directoryPath)\n",
    "\n",
    "path_to_file = []\n",
    "for root, dirs, files in os.walk(directoryPath):\n",
    "    for name in files:\n",
    "        if name.endswith(\".nii\"):\n",
    "            path_to_file.append(os.path.join(root, name))\n",
    "            \n",
    "save_directory = os.path.join(directoryPath,\"DRR_output\")\n",
    "if not os.path.exists(save_directory):\n",
    "    os.makedirs(save_directory)\n",
    "\n",
    "# CSV file saved things\n",
    "source_file = []\n",
    "boneless_file = []\n",
    "lung_file = []\n",
    "PixelSize_i = []\n",
    "PixelSize_j = []\n",
    "origin_i = []\n",
    "origin_j = []\n",
    "\n",
    "\n",
    "# IMPORT FILE\n",
    "for ii in [5, 366, 565]:#range(6): #range(len(path_to_file)):\n",
    "    a_filepath = path_to_file[ii]\n",
    "    print(a_filepath)\n",
    "    head, tail = os.path.split(a_filepath)\n",
    "    patient_code_file = os.path.splitext(tail)[0]\n",
    "\n",
    "    regex = re.compile(r'(?<=-)[0-9_]+')\n",
    "    patient_code = regex.findall(patient_code_file)[0]\n",
    "    print(patient_code)\n",
    "    \n",
    "    reader = sitk.ImageFileReader()\n",
    "    reader.SetFileName(a_filepath)\n",
    "    reader.LoadPrivateTagsOn()\n",
    "    reader.ReadImageInformation()\n",
    "    # Read Metadata\n",
    "\n",
    "    for k in reader.GetMetaDataKeys():\n",
    "        v = reader.GetMetaData(k)\n",
    "        #print(f\"({k}) = = \\\"{v}\\\"\")\n",
    "\n",
    "    image = reader.Execute();\n",
    "\n",
    "    # Properties are [CxHxW]\n",
    "    VoxelSize = list( map( float, [reader.GetMetaData('pixdim[3]'), reader.GetMetaData('pixdim[1]'), reader.GetMetaData('pixdim[2]')]) )\n",
    "    ImOrigin = list( map( float, [reader.GetMetaData('qoffset_z'), reader.GetMetaData('qoffset_y'), reader.GetMetaData('qoffset_x')]) )\n",
    "    ImOrigin[1],ImOrigin[2] = -ImOrigin[1], -ImOrigin[2]\n",
    "    print(\"Origin: \"+ str(ImOrigin))\n",
    "    print(\"Voxel Size: \" + str(VoxelSize))\n",
    "    \n",
    "    # Generate DRR based on image\n",
    "    nda = sitk.GetArrayFromImage(image)\n",
    "    \n",
    "    nda = np.maximum(nda,-1000) #Air\n",
    "    nda = np.minimum(nda,1000) #Cortical bone ()\n",
    "    \n",
    "    ###########################\n",
    "    # IMAGE PRE-PROCESSING\n",
    "    ###########################\n",
    "\n",
    "    # BODY MASKING\n",
    "    # Use Otsu thresholding to distinguish body structures v.s. air\n",
    "    th = skimage.filters.threshold_otsu(nda, nbins=256)\n",
    "    mask = nda.copy() > th\n",
    "    \n",
    "    # Use morphological opening to carve away regions where body structure is linked to bed.\n",
    "    # Erosion\n",
    "    strel=skimage.morphology.ball(3)\n",
    "    mask = skimage.morphology.erosion(mask, selem=strel)\n",
    "    # CC Labelling\n",
    "    mask, maxarea,_ = ImageProcessing.connectedComponentsLabelling(mask, connectivity=1, k=1)\n",
    "    # Dilation\n",
    "    mask = skimage.morphology.dilation(mask, selem=strel)\n",
    "\n",
    "    # Hole Filling\n",
    "    for i in range(mask.shape[0]):\n",
    "        mask[i,:,:] = scipy.ndimage.binary_fill_holes(mask[i,:,:])\n",
    "\n",
    "\n",
    "    nda_nobed = nda.copy()\n",
    "    nda_nobed[~mask.astype('bool')]=-1024\n",
    "\n",
    "    # BONE segmentation\n",
    "    bone = ImageProcessing.BoneSegmentation(nda_nobed)\n",
    "    nda_nobone = nda_nobed.copy()\n",
    "    nda_nobone[bone.astype('bool')]=0  # that of water\n",
    "    \n",
    "\n",
    "    # LUNG segmentation\n",
    "    lung = ImageProcessing.LungSegmentation(nda_nobed, mask)\n",
    "    nda_lung = lung.astype(np.int16) * nda_nobed\n",
    "    nda_lung[~lung.astype('bool')]=-1024  # that of water\n",
    "    \n",
    "    plt.imshow(bone[30,:,:])\n",
    "    plt.plot\n",
    "    #################################\n",
    "    # SAVE OUTPUT\n",
    "    #################################\n",
    "    # Save the numpy arrays\n",
    "    for status in [\"source\",\"boneless\",\"lung\"]:\n",
    "        save_file_path = os.path.join(save_directory,patient_code+\"_\"+status+\".npy\")\n",
    "        if status == \"source\":\n",
    "            save_array = nda\n",
    "        elif status == \"boneless\":\n",
    "            save_array = nda_nobone\n",
    "        elif status == \"lung\":\n",
    "            save_array = nda_lung\n",
    "            \n",
    "        window_width = 1000\n",
    "        window_level = 0\n",
    "        save_out, limits, PixelSize, origin = DRR.createDRR(save_array , 1, VoxelSize, ImOrigin, window_width, window_level)\n",
    "\n",
    "        print(save_file_path)\n",
    "        np.save(save_file_path, save_out, allow_pickle=False)\n",
    "        print(\"Saved.\")\n",
    "    \n",
    "    # Save data in lists\n",
    "    source_file.append(os.path.join(save_directory,patient_code+\"_\"+\"source\"+\".npy\"))\n",
    "    boneless_file.append(os.path.join(save_directory,patient_code+\"_\"+\"boneless\"+\".npy\"))\n",
    "    lung_file.append(os.path.join(save_directory,patient_code+\"_\"+\"lung\"+\".npy\"))\n",
    "    PixelSize_i.append(PixelSize[0])\n",
    "    PixelSize_j.append(PixelSize[1])\n",
    "    origin_i.append(origin[0])\n",
    "    origin_j.append(origin[1])\n",
    "    \n",
    "    if patient_code=='0005' or patient_code=='0404' or patient_code=='0612':\n",
    "        print(patient_code+': Saving bone and lung segs for validation.')\n",
    "        save_directory_autoseg = os.path.join(directoryPath,\"auto_segmentation\")\n",
    "        if not os.path.exists(save_directory_autoseg):\n",
    "            os.makedirs(save_directory_autoseg)\n",
    "        save_file_path_bone_autoseg = os.path.join(save_directory_autoseg, patient_code+\"_\"+\"bone_autosegmentation\"+\".npy\")\n",
    "        np.save(save_file_path_bone_autoseg, bone, allow_pickle=False)\n",
    "        save_file_path_lung_autoseg = os.path.join(save_directory_autoseg, patient_code+\"_\"+\"lung_autosegmentation\"+\".npy\")\n",
    "        np.save(save_file_path_lung_autoseg, lung, allow_pickle=False)\n",
    "        \n",
    "\n",
    "# Save as a CSV with file paths\n",
    "# source file | boneless file | lung file\n",
    "import pandas as pd\n",
    "\n",
    "# Write down the filepaths, pixel sizes, origins\n",
    "data_dict = {'source': source_file, 'boneless': boneless_file, 'lung': lung_file, \n",
    "             'PixelSize_i': PixelSize_i, 'PixelSize_j': PixelSize_j, \n",
    "             'origin_i': origin_i, 'origin_j': origin_j}\n",
    "df = pd.DataFrame(data_dict)"
   ]
  },
  {
   "cell_type": "code",
   "execution_count": 2,
   "id": "offensive-business",
   "metadata": {},
   "outputs": [],
   "source": [
    "csv_file_name = \"DRR_directory.csv\"\n",
    "df.to_csv(os.path.join(save_directory, csv_file_name), index=False)"
   ]
  },
  {
   "cell_type": "code",
   "execution_count": 9,
   "id": "respected-label",
   "metadata": {},
   "outputs": [
    {
     "name": "stdout",
     "output_type": "stream",
     "text": [
      "D:\\data\\CT-Covid-19-August2020\\DRR_output\\0005_source.npy\n"
     ]
    },
    {
     "data": {
      "application/vnd.jupyter.widget-view+json": {
       "model_id": "9454b36413e34183850cdc33147c8ab0",
       "version_major": 2,
       "version_minor": 0
      },
      "text/plain": [
       "Canvas(toolbar=Toolbar(toolitems=[('Home', 'Reset original view', 'home', 'home'), ('Back', 'Back to previous …"
      ]
     },
     "metadata": {},
     "output_type": "display_data"
    },
    {
     "name": "stdout",
     "output_type": "stream",
     "text": [
      "0.5611145167668623\n",
      "1.0948478296196764\n"
     ]
    }
   ],
   "source": [
    "%matplotlib widget\n",
    "#print(maxarea2/maxarea1)\n",
    "\n",
    "ii = 0\n",
    "print(df['source'][ii])\n",
    "a = np.load(df['source'][ii])\n",
    "ImageProcessing.plotImage(a , [df['PixelSize_i'][ii], df['PixelSize_j'][ii]] , [df['origin_i'][ii], df['origin_j'][ii]])\n",
    "print(np.amin(a))\n",
    "print(np.amax(a))"
   ]
  },
  {
   "cell_type": "code",
   "execution_count": 4,
   "id": "polyphonic-quantum",
   "metadata": {},
   "outputs": [
    {
     "data": {
      "text/plain": [
       "565"
      ]
     },
     "execution_count": 4,
     "metadata": {},
     "output_type": "execute_result"
    }
   ],
   "source": [
    "# REGEX TESTING\n",
    "path_to_file = []\n",
    "for root, dirs, files in os.walk(directoryPath):\n",
    "    for name in files:\n",
    "        if name.endswith(\".nii\"):\n",
    "            path_to_file.append(os.path.join(root, name))\n",
    "codes=[]\n",
    "for a_filepath in path_to_file:\n",
    "    head, tail = os.path.split(a_filepath)\n",
    "    patient_code_file = os.path.splitext(tail)[0]\n",
    "\n",
    "\n",
    "    regex = re.compile(r'(?<=-)[0-9_]+')\n",
    "    patient_code = regex.findall(patient_code_file)[0]\n",
    "    codes.append(patient_code)\n",
    "\n",
    "# Search codes for 404\n",
    "codes.index(\"0612\")\n"
   ]
  },
  {
   "cell_type": "code",
   "execution_count": 5,
   "id": "american-henry",
   "metadata": {},
   "outputs": [
    {
     "data": {
      "application/vnd.jupyter.widget-view+json": {
       "model_id": "c63b1d9d459a4939b659c662ef1afa25",
       "version_major": 2,
       "version_minor": 0
      },
      "text/plain": [
       "Canvas(toolbar=Toolbar(toolitems=[('Home', 'Reset original view', 'home', 'home'), ('Back', 'Back to previous …"
      ]
     },
     "metadata": {},
     "output_type": "display_data"
    },
    {
     "data": {
      "text/plain": [
       "<function matplotlib.pyplot.plot>"
      ]
     },
     "execution_count": 5,
     "metadata": {},
     "output_type": "execute_result"
    },
    {
     "data": {
      "image/png": "[encoded data removed]",
      "text/plain": [
       "<Figure size 432x288 with 1 Axes>"
      ]
     },
     "metadata": {
      "needs_background": "light"
     },
     "output_type": "display_data"
    }
   ],
   "source": [
    "plt.imshow(lung[35,:,:])\n",
    "plt.plot"
   ]
  }
 ],
 "metadata": {
  "kernelspec": {
   "display_name": "Python 3",
   "language": "python",
   "name": "python3"
  },
  "language_info": {
   "codemirror_mode": {
    "name": "ipython",
    "version": 3
   },
   "file_extension": ".py",
   "mimetype": "text/x-python",
   "name": "python",
   "nbconvert_exporter": "python",
   "pygments_lexer": "ipython3",
   "version": "3.6.13"
  }
 },
 "nbformat": 4,
 "nbformat_minor": 5
}
