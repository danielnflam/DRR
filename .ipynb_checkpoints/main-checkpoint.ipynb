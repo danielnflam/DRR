{
 "cells": [
  {
   "cell_type": "code",
   "execution_count": 1,
   "id": "european-vocabulary",
   "metadata": {},
   "outputs": [
    {
     "name": "stdout",
     "output_type": "stream",
     "text": [
      "D:\\data\\CT-Covid-19-August2020\n",
      "D:\\data\\CT-Covid-19-August2020\\volume-covid19-A-0005.nii\\volume-covid19-A-0005.nii\n",
      "volume-covid19-A-0005\n",
      "[-943.0, -189.083, -178.34]\n"
     ]
    }
   ],
   "source": [
    "import SimpleITK as sitk\n",
    "import numpy as np\n",
    "import os, sys, time, datetime\n",
    "import pathlib\n",
    "import re\n",
    "import matplotlib.pyplot as plt\n",
    "\n",
    "# ALL CT IMAGES IN DIRECTORY\n",
    "directoryPath = pathlib.Path(\"D:/data/CT-Covid-19-August2020/\")\n",
    "print(directoryPath)\n",
    "\n",
    "path_to_file = []\n",
    "for root, dirs, files in os.walk(directoryPath):\n",
    "    for name in files:\n",
    "        if name.endswith(\".nii\"):\n",
    "            path_to_file.append(os.path.join(root, name))\n",
    "            \n",
    "len(path_to_file)\n",
    "\n",
    "\n",
    "# IMPORT FILE\n",
    "ii = 5\n",
    "a_filepath = path_to_file[ii]\n",
    "print(a_filepath)\n",
    "head, tail = os.path.split(a_filepath)\n",
    "patient_code_file = os.path.splitext(tail)[0]\n",
    "\n",
    "save_directory = os.path.join(directoryPath,\"DRR_output\", patient_code_file)\n",
    "print(patient_code_file)\n",
    "if not os.path.exists(save_directory):\n",
    "    os.makedirs(save_directory)\n",
    "\n",
    "regex = re.compile(r'(?<=-)\\d+')\n",
    "patient_code = regex.findall(patient_code_file)[0]\n",
    "\n",
    "\n",
    "reader = sitk.ImageFileReader()\n",
    "reader.SetFileName(a_filepath)\n",
    "reader.LoadPrivateTagsOn()\n",
    "reader.ReadImageInformation()\n",
    "# Read Metadata\n",
    "\n",
    "for k in reader.GetMetaDataKeys():\n",
    "    v = reader.GetMetaData(k)\n",
    "    #print(f\"({k}) = = \\\"{v}\\\"\")\n",
    "\n",
    "image = reader.Execute();\n",
    "\n",
    "# Properties are [CxHxW]\n",
    "VoxelSize = list( map( float, [reader.GetMetaData('pixdim[3]'), reader.GetMetaData('pixdim[1]'), reader.GetMetaData('pixdim[2]')]) )\n",
    "ImOrigin = list( map( float, [reader.GetMetaData('qoffset_z'), reader.GetMetaData('qoffset_y'), reader.GetMetaData('qoffset_x')]) )\n",
    "ImOrigin[1],ImOrigin[2] = -ImOrigin[1], -ImOrigin[2]\n",
    "print(ImOrigin)"
   ]
  },
  {
   "cell_type": "code",
   "execution_count": 2,
   "id": "auburn-craps",
   "metadata": {},
   "outputs": [
    {
     "data": {
      "application/vnd.jupyter.widget-view+json": {
       "model_id": "a1665c05fda64607bd3adeb7a1e909dd",
       "version_major": 2,
       "version_minor": 0
      },
      "text/plain": [
       "Canvas(toolbar=Toolbar(toolitems=[('Home', 'Reset original view', 'home', 'home'), ('Back', 'Back to previous …"
      ]
     },
     "metadata": {},
     "output_type": "display_data"
    },
    {
     "data": {
      "text/plain": [
       "<function matplotlib.pyplot.plot>"
      ]
     },
     "execution_count": 2,
     "metadata": {},
     "output_type": "execute_result"
    }
   ],
   "source": [
    "%matplotlib widget\n",
    "# Generate DRR based on image\n",
    "nda = sitk.GetArrayFromImage(image)\n",
    "\n",
    "nda = (np.maximum(nda,-1024))\n",
    "plt.imshow(nda[50,:,:])\n",
    "plt.plot"
   ]
  },
  {
   "cell_type": "code",
   "execution_count": 3,
   "id": "arbitrary-ethernet",
   "metadata": {},
   "outputs": [
    {
     "name": "stdout",
     "output_type": "stream",
     "text": [
      "(271, 512, 512)\n"
     ]
    }
   ],
   "source": [
    "import skimage.filters, skimage.exposure, skimage.measure, skimage.morphology\n",
    "import scipy\n",
    "import ImageProcessing\n",
    "###########################\n",
    "# IMAGE PRE-PROCESSING\n",
    "###########################\n",
    "\n",
    "# BODY MASKING\n",
    "# Use Otsu thresholding to distinguish body structures v.s. air\n",
    "th = skimage.filters.threshold_otsu(nda, nbins=256)\n",
    "mask = nda.copy() > th\n",
    "\n",
    "# Use morphological opening to carve away regions where body structure is linked to bed.\n",
    "# Erosion\n",
    "strel=skimage.morphology.ball(3)\n",
    "mask = skimage.morphology.erosion(mask, selem=strel)\n",
    "# CC Labelling\n",
    "mask, label = ImageProcessing.connectedComponentsLabelling(mask, connectivity=1, k=1)\n",
    "# Dilation\n",
    "mask = skimage.morphology.dilation(mask, selem=strel)\n",
    "\n",
    "# Hole Filling\n",
    "for i in range(mask.shape[0]):\n",
    "    mask[i,:,:] = scipy.ndimage.binary_fill_holes(mask[i,:,:])\n",
    "\n",
    "\n",
    "nda_nobed = nda.copy()\n",
    "nda_nobed[~mask.astype('bool')]=-1024"
   ]
  },
  {
   "cell_type": "code",
   "execution_count": 4,
   "id": "original-shakespeare",
   "metadata": {},
   "outputs": [],
   "source": [
    "# BONE SEGMENTATION\n",
    "bone = nda_nobed.copy() > 250 # Adams et al. 2012. Chapter 12 - Radiology (Pediatric Bone Second Edition).\n",
    "for i in range(bone.shape[0]):\n",
    "    bone[i,:,:] = scipy.ndimage.binary_fill_holes(bone[i,:,:])\n",
    "\n",
    "nda_nobone = nda_nobed.copy()\n",
    "nda_nobone[bone.astype('bool')]=0  # that of water\n",
    "\n",
    "\n",
    "# LUNG segmentation\n",
    "lung = nda_nobed.copy() < th\n",
    "lung = lung * mask\n",
    "# CC-labelling\n",
    "lung, label = ImageProcessing.connectedComponentsLabelling(lung, connectivity=1, k=1)\n",
    "nda_lung = lung * nda\n",
    "nda_lung[~lung.astype('bool')]=0  # that of water"
   ]
  },
  {
   "cell_type": "code",
   "execution_count": 5,
   "id": "rolled-donna",
   "metadata": {},
   "outputs": [
    {
     "name": "stdout",
     "output_type": "stream",
     "text": [
      "[  1   2  66 100]\n"
     ]
    },
    {
     "data": {
      "application/vnd.jupyter.widget-view+json": {
       "model_id": "42ce5babddc445d6997616261b502164",
       "version_major": 2,
       "version_minor": 0
      },
      "text/plain": [
       "Canvas(toolbar=Toolbar(toolitems=[('Home', 'Reset original view', 'home', 'home'), ('Back', 'Back to previous …"
      ]
     },
     "metadata": {},
     "output_type": "display_data"
    },
    {
     "data": {
      "text/plain": [
       "<function matplotlib.pyplot.plot>"
      ]
     },
     "execution_count": 5,
     "metadata": {},
     "output_type": "execute_result"
    }
   ],
   "source": [
    "print(np.sort([100,2,1,66]))\n",
    "%matplotlib widget\n",
    "plt.imshow(nda_nobed[130,:,:], cmap='gray')\n",
    "plt.plot"
   ]
  },
  {
   "cell_type": "code",
   "execution_count": 6,
   "id": "american-handy",
   "metadata": {},
   "outputs": [
    {
     "name": "stdout",
     "output_type": "stream",
     "text": [
      "[-178.34, 199.79999999999998, -673.0, -943.0]\n"
     ]
    },
    {
     "data": {
      "application/vnd.jupyter.widget-view+json": {
       "model_id": "3d5e749ddd5a42efa2c5a1e0c6ec3b9d",
       "version_major": 2,
       "version_minor": 0
      },
      "text/plain": [
       "Canvas(toolbar=Toolbar(toolitems=[('Home', 'Reset original view', 'home', 'home'), ('Back', 'Back to previous …"
      ]
     },
     "metadata": {},
     "output_type": "display_data"
    },
    {
     "data": {
      "text/plain": [
       "<function matplotlib.pyplot.plot>"
      ]
     },
     "execution_count": 6,
     "metadata": {},
     "output_type": "execute_result"
    }
   ],
   "source": [
    "# Build DRR from the CT image NP array\n",
    "\n",
    "nda_final = nda_lung\n",
    "\n",
    "%matplotlib widget\n",
    "def createDRR(array, k, VoxelSize, ImOrigin):\n",
    "    \"\"\"\n",
    "    Campo's algorithm for generating DRR images\n",
    "    https://www.ncbi.nlm.nih.gov/pmc/articles/PMC6239425/\n",
    "    \n",
    "    Output:\n",
    "    out: 2D array\n",
    "    PixelSize: 2D array pixel size\n",
    "    origin: uppermost and leftmost corner of the array\n",
    "    \n",
    "    Input: \n",
    "    array: [CxHxW] where C is planes (IS), H is rows (RL), W is columns (AP).\n",
    "    k: denotes the axis direction which is summed over.\n",
    "    VoxelSize: [C, H, W] size of voxel in array\n",
    "    ImOrigin: [C, H, W] the data coordinates of the Rightmost, Anteriormost, Inferiormost corner of the array\n",
    "    \"\"\"\n",
    "    if k==1:\n",
    "        array = np.moveaxis(array, 0, 1)\n",
    "        PixelSize = [VoxelSize[0], VoxelSize[2]]\n",
    "        origin = [ImOrigin[0], ImOrigin[2]]\n",
    "    elif k==2:\n",
    "        array = np.moveaxis(array, 0, 2)\n",
    "        array = np.swapaxes(array,0,1)\n",
    "        PixelSize = [VoxelSize[0], VoxelSize[1]]\n",
    "        origin = [ImOrigin[0], ImOrigin[1]]\n",
    "    elif k==0:\n",
    "        array = array\n",
    "        PixelSize = [VoxelSize[1], VoxelSize[2]]\n",
    "        origin = [ImOrigin[1], ImOrigin[2]]\n",
    "    else:\n",
    "        raise RuntimeError('k can be 0, 1, 2')\n",
    "    out = DRR_algorithm_Campo(array, beta=0.85)\n",
    "    return out, PixelSize, origin\n",
    "\n",
    "def DRR_algorithm_Campo(array, beta):\n",
    "    \"\"\"\n",
    "    Campo's algorithm for generating DRR images\n",
    "    https://www.ncbi.nlm.nih.gov/pmc/articles/PMC6239425/\n",
    "    \n",
    "    Input: \n",
    "    array: [CxHxW] where C is planes (IS), H is rows (RL), W is columns (AP).\n",
    "    beta: 0.85 in https://www.ncbi.nlm.nih.gov/pmc/articles/PMC6239425/\n",
    "    \n",
    "    Output:\n",
    "    out: [HxW] with values increasing from 0\n",
    "    \"\"\"\n",
    "    \n",
    "    a = (np.maximum(array,-1024) + 1024)/1000\n",
    "    out = (1/array.shape[0])*np.sum((np.exp(beta*a)-1), axis=0)\n",
    "    return out\n",
    "\n",
    "# IMAGE SHOW\n",
    "out, PixelSize, origin = createDRR(nda_final , 1, VoxelSize, ImOrigin)\n",
    "extents = [origin[1], origin[1]+PixelSize[1]*(out.shape[1]-1), origin[0]+PixelSize[0]*(out.shape[0]-1), origin[0] ]\n",
    "print(extents)\n",
    "plt.imshow(out, extent=extents, origin='upper')\n",
    "plt.gca().invert_yaxis()\n",
    "plt.bone()\n",
    "plt.plot"
   ]
  },
  {
   "cell_type": "code",
   "execution_count": 7,
   "id": "intended-tourist",
   "metadata": {},
   "outputs": [
    {
     "data": {
      "application/vnd.jupyter.widget-view+json": {
       "model_id": "63102fccdaae47ee97f48484e02d793f",
       "version_major": 2,
       "version_minor": 0
      },
      "text/plain": [
       "Canvas(toolbar=Toolbar(toolitems=[('Home', 'Reset original view', 'home', 'home'), ('Back', 'Back to previous …"
      ]
     },
     "metadata": {},
     "output_type": "display_data"
    }
   ],
   "source": []
  }
 ],
 "metadata": {
  "kernelspec": {
   "display_name": "Python 3",
   "language": "python",
   "name": "python3"
  },
  "language_info": {
   "codemirror_mode": {
    "name": "ipython",
    "version": 3
   },
   "file_extension": ".py",
   "mimetype": "text/x-python",
   "name": "python",
   "nbconvert_exporter": "python",
   "pygments_lexer": "ipython3",
   "version": "3.6.13"
  }
 },
 "nbformat": 4,
 "nbformat_minor": 5
}
