{
 "cells": [
  {
   "cell_type": "code",
   "execution_count": null,
   "id": "loose-status",
   "metadata": {},
   "outputs": [],
   "source": [
    "# Assess the similarity between generated DRRs and dataLoaded DRRs from PolyU\n",
    "import torch\n",
    "import numpy as np\n",
    "import scipy as scp\n",
    "import matplotlib.pyplot as plt\n"
   ]
  },
  {
   "cell_type": "code",
   "execution_count": null,
   "id": "dutch-headline",
   "metadata": {},
   "outputs": [],
   "source": [
    "# Create a dataloader for CXR images\n"
   ]
  }
 ],
 "metadata": {
  "kernelspec": {
   "display_name": "Python 3",
   "language": "python",
   "name": "python3"
  },
  "language_info": {
   "codemirror_mode": {
    "name": "ipython",
    "version": 3
   },
   "file_extension": ".py",
   "mimetype": "text/x-python",
   "name": "python",
   "nbconvert_exporter": "python",
   "pygments_lexer": "ipython3",
   "version": "3.6.13"
  }
 },
 "nbformat": 4,
 "nbformat_minor": 5
}
