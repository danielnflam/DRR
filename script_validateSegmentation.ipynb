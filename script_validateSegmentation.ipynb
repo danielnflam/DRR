{
 "cells": [
  {
   "cell_type": "code",
   "execution_count": 4,
   "id": "encouraging-baptist",
   "metadata": {},
   "outputs": [],
   "source": [
    "import SimpleITK as sitk\n",
    "import numpy as np\n",
    "import scipy\n",
    "import os, sys, time, datetime\n",
    "import pathlib\n",
    "import matplotlib.pyplot as plt\n",
    "import re\n",
    "import Metrics\n",
    "import ImageProcessing"
   ]
  },
  {
   "cell_type": "code",
   "execution_count": 5,
   "id": "cardiac-parliament",
   "metadata": {},
   "outputs": [
    {
     "name": "stdout",
     "output_type": "stream",
     "text": [
      "0005\n"
     ]
    }
   ],
   "source": [
    "savefig_directory = 'C:/Users/nfdlam/OneDrive - The Hong Kong Polytechnic University/images/CXR-GAN/DRR'\n",
    "\n",
    "patient_code = '0005'\n",
    "# Information for each patient\n",
    "if patient_code == '0005':\n",
    "    print(patient_code)\n",
    "    validation_bone_file = '0005-bone.seg.nrrd'\n",
    "    validation_lung_file = '0005-lung.seg.nrrd'\n",
    "    axial_slice = 115\n",
    "    coronal_slice = 257\n",
    "    sagittal_slice = 329\n",
    "    \n",
    "    origin = [-177.6, -188.343, -942.0] # R, A, I\n",
    "    VoxelSize = [0.74, 0.74, 1.0]  # LR, AP, IS\n",
    "    \n",
    "    auto_bone_file = '0005_bone_autosegmentation.npy'\n",
    "    auto_lung_file = '0005_lung_autosegmentation.npy'\n",
    "\n",
    "tissue_range = [\"bone\",\"lung\"]"
   ]
  },
  {
   "cell_type": "code",
   "execution_count": 14,
   "id": "trying-virginia",
   "metadata": {},
   "outputs": [
    {
     "name": "stdout",
     "output_type": "stream",
     "text": [
      "D:\\data\\CT-Covid-19-August2020\\validation_segmentations\n",
      "D:\\data\\CT-Covid-19-August2020\\auto_segmentation\n",
      "DSC for bone: 0.9025250119104335\n",
      "Jaccard for bone: 0.822364993922556\n",
      "DSC for lung: 0.9944716593836971\n",
      "Jaccard for lung: 0.9890041078048292\n",
      "[-177.97, 200.91, -188.713, 190.167, -942.37, -671.37]\n"
     ]
    },
    {
     "data": {
      "image/png": "[encoded data removed]",
      "text/plain": [
       "<Figure size 432x288 with 2 Axes>"
      ]
     },
     "metadata": {
      "needs_background": "light"
     },
     "output_type": "display_data"
    },
    {
     "data": {
      "image/png": "[encoded data removed]",
      "text/plain": [
       "<Figure size 432x288 with 2 Axes>"
      ]
     },
     "metadata": {
      "needs_background": "light"
     },
     "output_type": "display_data"
    }
   ],
   "source": [
    "# VALIDATION FILE PATH\n",
    "directoryPath_validation = pathlib.Path(\"D:/data/CT-Covid-19-August2020/validation_segmentations/\")\n",
    "print(directoryPath_validation)\n",
    "directoryPath_auto = pathlib.Path(\"D:/data/CT-Covid-19-August2020/auto_segmentation/\")\n",
    "print(directoryPath_auto)\n",
    "\n",
    "for tissue in tissue_range:\n",
    "    if tissue ==\"bone\":\n",
    "        validation_file = validation_bone_file\n",
    "        auto_file = auto_bone_file\n",
    "    if tissue ==\"lung\":\n",
    "        validation_file = validation_lung_file\n",
    "        auto_file = auto_lung_file\n",
    "    \n",
    "    # LOAD VALIDATION FILE\n",
    "    validation_file_path = os.path.join(directoryPath_validation, validation_file)\n",
    "\n",
    "    # Load image\n",
    "    reader = sitk.ImageFileReader()\n",
    "    reader.SetFileName(validation_file_path)\n",
    "    reader.LoadPrivateTagsOn()\n",
    "    reader.ReadImageInformation()\n",
    "    # Read Metadata\n",
    "    for k in reader.GetMetaDataKeys():\n",
    "        v = reader.GetMetaData(k)\n",
    "        #print(f\"({k}) = = \\\"{v}\\\"\")\n",
    "    image = reader.Execute();\n",
    "    validation_array = sitk.GetArrayFromImage(image)\n",
    "\n",
    "    axial_validation = validation_array[axial_slice,:,:]\n",
    "    coronal_validation = validation_array[:,coronal_slice,:]\n",
    "    sagittal_validation = validation_array[:,:,sagittal_slice]\n",
    "\n",
    "    #plt.imshow(axial_validation)\n",
    "    #plt.plot\n",
    "    \n",
    "    # LOAD AUTO FILE\n",
    "    auto_array = np.load(os.path.join(directoryPath_auto, auto_file))\n",
    "    axial_auto = auto_array[axial_slice,:,:]\n",
    "    coronal_auto = auto_array[:,coronal_slice,:]\n",
    "    sagittal_auto = auto_array[:,:,sagittal_slice]\n",
    "    \n",
    "    fig, (ax1, ax2) = plt.subplots(1, 2)\n",
    "    fig.suptitle('Left: auto, Right: validation')\n",
    "    ax1.imshow(axial_auto)\n",
    "    ax2.imshow(axial_validation)\n",
    "    fig.savefig(os.path.join(savefig_directory,patient_code+\"_\"+tissue+'_autoVSvalidation.png'), dpi=150)\n",
    "    \n",
    "    # CALCULATE METRICS\n",
    "    DSC = Metrics.DiceSimilarityCoefficient(axial_auto, axial_validation)\n",
    "    Jaccard = Metrics.JaccardIndex(axial_auto, axial_validation)\n",
    "    print(\"DSC for \"+tissue+\": \"+str(DSC))\n",
    "    print(\"Jaccard for \"+tissue+\": \"+str(Jaccard))\n",
    "\n",
    "    extents =[origin[0]-0.5*VoxelSize[0], origin[0]-0.5*VoxelSize[0]+VoxelSize[0]*(auto_array.shape[1]),\n",
    "              origin[1]-0.5*VoxelSize[0], origin[1]-0.5*VoxelSize[0]+VoxelSize[1]*(auto_array.shape[2]),\n",
    "              origin[2]-0.5*VoxelSize[0], origin[2]-0.5*VoxelSize[0]+VoxelSize[2]*(auto_array.shape[0])]\n",
    "print(extents)"
   ]
  },
  {
   "cell_type": "code",
   "execution_count": 10,
   "id": "entertaining-exclusive",
   "metadata": {},
   "outputs": [
    {
     "name": "stdout",
     "output_type": "stream",
     "text": [
      "(271, 512, 512)\n"
     ]
    },
    {
     "ename": "TypeError",
     "evalue": "mask2points() missing 1 required positional argument: 'extents'",
     "output_type": "error",
     "traceback": [
      "\u001b[1;31m---------------------------------------------------------------------------\u001b[0m",
      "\u001b[1;31mTypeError\u001b[0m                                 Traceback (most recent call last)",
      "\u001b[1;32m<ipython-input-10-6e44094e5ba6>\u001b[0m in \u001b[0;36m<module>\u001b[1;34m()\u001b[0m\n\u001b[0;32m      1\u001b[0m \u001b[0mprint\u001b[0m\u001b[1;33m(\u001b[0m\u001b[0mvalidation_array\u001b[0m\u001b[1;33m.\u001b[0m\u001b[0mshape\u001b[0m\u001b[1;33m)\u001b[0m\u001b[1;33m\u001b[0m\u001b[1;33m\u001b[0m\u001b[0m\n\u001b[1;32m----> 2\u001b[1;33m \u001b[0mauto_points\u001b[0m \u001b[1;33m=\u001b[0m \u001b[0mImageProcessing\u001b[0m\u001b[1;33m.\u001b[0m\u001b[0mmask2points\u001b[0m\u001b[1;33m(\u001b[0m\u001b[0maxial_auto\u001b[0m\u001b[1;33m)\u001b[0m\u001b[1;33m\u001b[0m\u001b[1;33m\u001b[0m\u001b[0m\n\u001b[0m\u001b[0;32m      3\u001b[0m \u001b[0mval_points\u001b[0m \u001b[1;33m=\u001b[0m \u001b[0mImageProcessing\u001b[0m\u001b[1;33m.\u001b[0m\u001b[0mmask2points\u001b[0m\u001b[1;33m(\u001b[0m\u001b[0maxial_validation\u001b[0m\u001b[1;33m)\u001b[0m\u001b[1;33m\u001b[0m\u001b[1;33m\u001b[0m\u001b[0m\n",
      "\u001b[1;31mTypeError\u001b[0m: mask2points() missing 1 required positional argument: 'extents'"
     ]
    }
   ],
   "source": [
    "print(validation_array.shape)\n",
    "auto_points = ImageProcessing.mask2points(axial_auto)\n",
    "val_points = ImageProcessing.mask2points(axial_validation)\n"
   ]
  }
 ],
 "metadata": {
  "kernelspec": {
   "display_name": "Python 3",
   "language": "python",
   "name": "python3"
  },
  "language_info": {
   "codemirror_mode": {
    "name": "ipython",
    "version": 3
   },
   "file_extension": ".py",
   "mimetype": "text/x-python",
   "name": "python",
   "nbconvert_exporter": "python",
   "pygments_lexer": "ipython3",
   "version": "3.6.13"
  }
 },
 "nbformat": 4,
 "nbformat_minor": 5
}
